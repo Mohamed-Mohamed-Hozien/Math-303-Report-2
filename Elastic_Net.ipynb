{
  "nbformat": 4,
  "nbformat_minor": 0,
  "metadata": {
    "colab": {
      "provenance": [],
      "authorship_tag": "ABX9TyPXJRGtl/PBo6gPN+w5q8G7",
      "include_colab_link": true
    },
    "kernelspec": {
      "name": "python3",
      "display_name": "Python 3"
    },
    "language_info": {
      "name": "python"
    }
  },
  "cells": [
    {
      "cell_type": "markdown",
      "metadata": {
        "id": "view-in-github",
        "colab_type": "text"
      },
      "source": [
        "<a href=\"https://colab.research.google.com/github/Mohamed-Mohamed-Hozien/Math-303-Report-2/blob/Ziad/Elastic_Net.ipynb\" target=\"_parent\"><img src=\"https://colab.research.google.com/assets/colab-badge.svg\" alt=\"Open In Colab\"/></a>"
      ]
    },
    {
      "cell_type": "markdown",
      "source": [
        "#Imports"
      ],
      "metadata": {
        "id": "65_pg6pOwXzY"
      }
    },
    {
      "cell_type": "code",
      "execution_count": 30,
      "metadata": {
        "id": "2IDIK0btwKOW"
      },
      "outputs": [],
      "source": [
        "from sklearn import datasets\n",
        "from sklearn.model_selection import train_test_split\n",
        "from sklearn.linear_model import ElasticNet\n",
        "from sklearn.metrics import mean_squared_error"
      ]
    },
    {
      "cell_type": "markdown",
      "source": [
        "#Dataset"
      ],
      "metadata": {
        "id": "jlcGY0MrwbXB"
      }
    },
    {
      "cell_type": "markdown",
      "source": [
        "Loading"
      ],
      "metadata": {
        "id": "PWpUPIdvw_u6"
      }
    },
    {
      "cell_type": "code",
      "source": [
        "diabetes = datasets.load_diabetes()"
      ],
      "metadata": {
        "id": "Tg_M7pQ8wakL"
      },
      "execution_count": 31,
      "outputs": []
    },
    {
      "cell_type": "markdown",
      "source": [
        "Defining Data and target"
      ],
      "metadata": {
        "id": "MJZv8ekoxBe_"
      }
    },
    {
      "cell_type": "code",
      "source": [
        "X = diabetes.data\n",
        "y = diabetes.target"
      ],
      "metadata": {
        "id": "Xa4GUfZ4xCuK"
      },
      "execution_count": 32,
      "outputs": []
    },
    {
      "cell_type": "markdown",
      "source": [
        "#Data Splitting for training and testing"
      ],
      "metadata": {
        "id": "ttjOzxlg8qPU"
      }
    },
    {
      "cell_type": "code",
      "source": [
        "X_train, X_test, y_train, y_test = train_test_split(\n",
        "     X, y, test_size=0.20, random_state=0)"
      ],
      "metadata": {
        "id": "S-fAzDBB8tp3"
      },
      "execution_count": 34,
      "outputs": []
    },
    {
      "cell_type": "markdown",
      "source": [
        "#Implmentation"
      ],
      "metadata": {
        "id": "1j2JFvEywfT7"
      }
    },
    {
      "cell_type": "code",
      "source": [
        "class elasticNet:\n",
        "  def __init__(self, Lambda, Alpha):\n",
        "    self.Lambda = Lambda\n",
        "    self.Alpha = Alpha\n",
        "\n",
        "\n",
        "  def fit(self,X_train,Y_train):\n",
        "    return\n",
        "\n",
        "  def predict(self,X_test):\n",
        "    return []\n",
        "\n",
        "\n"
      ],
      "metadata": {
        "id": "scYAjeVbwW6g"
      },
      "execution_count": 18,
      "outputs": []
    },
    {
      "cell_type": "markdown",
      "source": [
        "#Performance of our model"
      ],
      "metadata": {
        "id": "Mt4Xsz5c8Bwu"
      }
    },
    {
      "cell_type": "code",
      "source": [
        "elastic = elasticNet(1,1)\n",
        "elastic.fit(X_train,y_train)\n",
        "y_predict = elastic.predict(X_test)\n",
        "acc = mean_squared_error(y_test,y_predict)\n",
        "print(acc)"
      ],
      "metadata": {
        "collapsed": true,
        "id": "nMbII8fq8Bf8"
      },
      "execution_count": null,
      "outputs": []
    },
    {
      "cell_type": "markdown",
      "source": [
        "#Preformance For sklearn Model"
      ],
      "metadata": {
        "id": "j2weIo508GtL"
      }
    },
    {
      "cell_type": "code",
      "source": [
        "elasticSklearn = ElasticNet(alpha=0.3,l1_ratio=0.4)\n",
        "elasticSklearn.fit(X_train,y_train)\n",
        "y_predict = elasticSklearn.predict(X_test)\n",
        "acc = mean_squared_error(y_test,y_predict)\n",
        "print(acc)"
      ],
      "metadata": {
        "colab": {
          "base_uri": "https://localhost:8080/"
        },
        "id": "NVM2zSVZ8GeX",
        "outputId": "b74e65ef-104b-4be8-e325-f68434645f2e"
      },
      "execution_count": 41,
      "outputs": [
        {
          "output_type": "stream",
          "name": "stdout",
          "text": [
            "4988.230819919534\n"
          ]
        }
      ]
    }
  ]
}