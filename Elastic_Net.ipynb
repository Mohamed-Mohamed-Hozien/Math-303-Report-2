{
  "nbformat": 4,
  "nbformat_minor": 0,
  "metadata": {
    "colab": {
      "provenance": [],
      "authorship_tag": "ABX9TyMnAyYC+NvrNxbMnA2wsDrC",
      "include_colab_link": true
    },
    "kernelspec": {
      "name": "python3",
      "display_name": "Python 3"
    },
    "language_info": {
      "name": "python"
    }
  },
  "cells": [
    {
      "cell_type": "markdown",
      "metadata": {
        "id": "view-in-github",
        "colab_type": "text"
      },
      "source": [
        "<a href=\"https://colab.research.google.com/github/Mohamed-Mohamed-Hozien/Math-303-Report-2/blob/Ziad/Elastic_Net.ipynb\" target=\"_parent\"><img src=\"https://colab.research.google.com/assets/colab-badge.svg\" alt=\"Open In Colab\"/></a>"
      ]
    },
    {
      "cell_type": "markdown",
      "source": [
        "#Imports"
      ],
      "metadata": {
        "id": "65_pg6pOwXzY"
      }
    },
    {
      "cell_type": "code",
      "execution_count": 11,
      "metadata": {
        "id": "2IDIK0btwKOW"
      },
      "outputs": [],
      "source": [
        "from sklearn import datasets\n",
        "from sklearn.model_selection import train_test_split\n",
        "from sklearn.linear_model import ElasticNet\n",
        "from sklearn.metrics import mean_squared_error"
      ]
    },
    {
      "cell_type": "markdown",
      "source": [
        "#Dataset"
      ],
      "metadata": {
        "id": "jlcGY0MrwbXB"
      }
    },
    {
      "cell_type": "markdown",
      "source": [
        "Loading"
      ],
      "metadata": {
        "id": "PWpUPIdvw_u6"
      }
    },
    {
      "cell_type": "code",
      "source": [
        "iris = datasets.load_iris()"
      ],
      "metadata": {
        "id": "Tg_M7pQ8wakL"
      },
      "execution_count": 2,
      "outputs": []
    },
    {
      "cell_type": "markdown",
      "source": [
        "Defining Data and target"
      ],
      "metadata": {
        "id": "MJZv8ekoxBe_"
      }
    },
    {
      "cell_type": "code",
      "source": [
        "X = iris.data\n",
        "y = iris.target"
      ],
      "metadata": {
        "id": "Xa4GUfZ4xCuK"
      },
      "execution_count": 5,
      "outputs": []
    },
    {
      "cell_type": "markdown",
      "source": [
        "Data Splitting for training and testing"
      ],
      "metadata": {
        "id": "ttjOzxlg8qPU"
      }
    },
    {
      "cell_type": "code",
      "source": [
        "X_train, X_test, y_train, y_test = train_test_split(\n",
        "     X, y, test_size=0.20, random_state=0)"
      ],
      "metadata": {
        "id": "S-fAzDBB8tp3"
      },
      "execution_count": 8,
      "outputs": []
    },
    {
      "cell_type": "markdown",
      "source": [
        "#Implmentation"
      ],
      "metadata": {
        "id": "1j2JFvEywfT7"
      }
    },
    {
      "cell_type": "code",
      "source": [
        "class elasticNet:\n",
        "  def __init__(self, Lambda, Alpha):\n",
        "    self.Lambda = Lambda\n",
        "    self.Alpha = Alpha\n",
        "\n",
        "\n",
        "  def fit(X_train,Y_train):\n",
        "    return\n",
        "\n",
        "  def predict(X_test):\n",
        "    return\n",
        "\n",
        "\n"
      ],
      "metadata": {
        "id": "scYAjeVbwW6g"
      },
      "execution_count": 4,
      "outputs": []
    },
    {
      "cell_type": "markdown",
      "source": [
        "#Performance of our model"
      ],
      "metadata": {
        "id": "Mt4Xsz5c8Bwu"
      }
    },
    {
      "cell_type": "code",
      "source": [
        "elastic = elasticNet(1,1)\n",
        "elastic.fit(X_train,y_train)\n",
        "y_predict = elastic.predict(X_test)\n",
        "acc = mean_squared_error(y_test,y_predict)\n",
        "print(acc)"
      ],
      "metadata": {
        "id": "nMbII8fq8Bf8"
      },
      "execution_count": null,
      "outputs": []
    },
    {
      "cell_type": "markdown",
      "source": [
        "#Preformance For sklearn Model"
      ],
      "metadata": {
        "id": "j2weIo508GtL"
      }
    },
    {
      "cell_type": "code",
      "source": [
        "elasticSklearn = ElasticNet(alpha=0.1,l1_ratio=0.2)\n",
        "elasticSklearn.fit(X_train,y_train)\n",
        "y_predict = elasticSklearn.predict(X_test)\n",
        "acc = mean_squared_error(y_test,y_predict)\n",
        "print(acc)"
      ],
      "metadata": {
        "id": "NVM2zSVZ8GeX",
        "outputId": "b4e8b837-5bed-421e-8961-d128d715c976",
        "colab": {
          "base_uri": "https://localhost:8080/"
        }
      },
      "execution_count": 13,
      "outputs": [
        {
          "output_type": "stream",
          "name": "stdout",
          "text": [
            "0.05369754298515912\n"
          ]
        }
      ]
    }
  ]
}