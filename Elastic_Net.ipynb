{
  "nbformat": 4,
  "nbformat_minor": 0,
  "metadata": {
    "colab": {
      "provenance": [],
      "authorship_tag": "ABX9TyORLuQwyAhFZOtKfJGWsZ9B",
      "include_colab_link": true
    },
    "kernelspec": {
      "name": "python3",
      "display_name": "Python 3"
    },
    "language_info": {
      "name": "python"
    }
  },
  "cells": [
    {
      "cell_type": "markdown",
      "metadata": {
        "id": "view-in-github",
        "colab_type": "text"
      },
      "source": [
        "<a href=\"https://colab.research.google.com/github/Mohamed-Mohamed-Hozien/Math-303-Report-2/blob/Ziad/Elastic_Net.ipynb\" target=\"_parent\"><img src=\"https://colab.research.google.com/assets/colab-badge.svg\" alt=\"Open In Colab\"/></a>"
      ]
    },
    {
      "cell_type": "markdown",
      "source": [
        "#Imports"
      ],
      "metadata": {
        "id": "65_pg6pOwXzY"
      }
    },
    {
      "cell_type": "code",
      "execution_count": null,
      "metadata": {
        "id": "2IDIK0btwKOW"
      },
      "outputs": [],
      "source": [
        "from sklearn import datasets"
      ]
    },
    {
      "cell_type": "markdown",
      "source": [
        "#Dataset"
      ],
      "metadata": {
        "id": "jlcGY0MrwbXB"
      }
    },
    {
      "cell_type": "markdown",
      "source": [
        "Loading"
      ],
      "metadata": {
        "id": "PWpUPIdvw_u6"
      }
    },
    {
      "cell_type": "code",
      "source": [
        "iris = datasets.load_iris()"
      ],
      "metadata": {
        "id": "Tg_M7pQ8wakL"
      },
      "execution_count": null,
      "outputs": []
    },
    {
      "cell_type": "markdown",
      "source": [
        "Handling"
      ],
      "metadata": {
        "id": "MJZv8ekoxBe_"
      }
    },
    {
      "cell_type": "code",
      "source": [
        "#لسه مقررتش هحولها DataFrame ولا لا"
      ],
      "metadata": {
        "id": "Xa4GUfZ4xCuK"
      },
      "execution_count": null,
      "outputs": []
    },
    {
      "cell_type": "markdown",
      "source": [
        "#Implmentation"
      ],
      "metadata": {
        "id": "1j2JFvEywfT7"
      }
    },
    {
      "cell_type": "code",
      "source": [
        "class elasticNet():\n",
        "\n",
        "  def fit():\n",
        "\n",
        "  def predict():\n",
        "\n",
        "\n",
        ""
      ],
      "metadata": {
        "id": "scYAjeVbwW6g"
      },
      "execution_count": null,
      "outputs": []
    }
  ]
}