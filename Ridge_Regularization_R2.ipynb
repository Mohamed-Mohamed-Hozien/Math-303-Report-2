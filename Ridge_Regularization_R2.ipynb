{
  "nbformat": 4,
  "nbformat_minor": 0,
  "metadata": {
    "colab": {
      "provenance": []
    },
    "kernelspec": {
      "name": "python3",
      "display_name": "Python 3"
    },
    "language_info": {
      "name": "python"
    }
  },
  "cells": [
    {
      "cell_type": "code",
      "source": [
        "import numpy as np\n",
        "from sklearn.datasets import load_diabetes\n",
        "from sklearn.model_selection import train_test_split\n",
        "from sklearn.model_selection import KFold\n",
        "from sklearn.metrics import mean_squared_error\n",
        "from sklearn.linear_model import Ridge\n",
        "\n",
        "diabetes = load_diabetes()\n",
        "X = diabetes.data\n",
        "y = diabetes.target\n",
        "\n",
        "X_train, X_test, y_train, y_test = train_test_split(X, y, test_size=0.2, random_state=42)\n"
      ],
      "metadata": {
        "id": "LXU9iSw3OcVC"
      },
      "execution_count": 66,
      "outputs": []
    },
    {
      "cell_type": "code",
      "source": [
        "class RidgeRegression:\n",
        "    def __init__(self, regulizer=1.0):\n",
        "        self.regulizer = regulizer  # Regularization strength\n",
        "        self.coffs = None  # Model Weights\n",
        "        self.b = None  # b term\n",
        "\n",
        "    def fit(self, X, y):\n",
        "        n_samples, n_features = X.shape\n",
        "\n",
        "        X_augmented = np.hstack([np.ones((n_samples, 1)), X])    # Augmentation (1's Column)\n",
        "\n",
        "        I = np.eye(X_augmented.shape[1])\n",
        "        I[0, 0] = 0  # for not regulizing b\n",
        "\n",
        "        XtX = np.dot(X_augmented.T, X_augmented)  # XT * X\n",
        "        XtY = np.dot(X_augmented.T, y)  # XT * y\n",
        "\n",
        "        XtX_reg = XtX + self.regulizer * I      # XTX+λI\n",
        "\n",
        "        XtX_reg_inv = np.linalg.inv(XtX_reg)    # (XTX+λI)^−1\n",
        "        coffs = np.dot(XtX_reg_inv, XtY)        # W=(XTX+λI)^−1 XTy\n",
        "\n",
        "        self.b = coffs[0]  # The first value is the b\n",
        "        self.coffs = coffs[1:]  # The rest are the Weights\n",
        "\n",
        "\n",
        "    def predict(self, X):\n",
        "        #------np.dot(----------------Augmented X--------,-------b added to W in one vecto----)----\n",
        "        return np.dot(np.hstack([np.ones((X.shape[0], 1)), X]), np.hstack([self.b, self.coffs]))   #y^=X⋅W\n",
        "\n",
        "ridge_custom = RidgeRegression(regulizer=1.0)\n"
      ],
      "metadata": {
        "id": "2-m-2u6_NbAV"
      },
      "execution_count": 67,
      "outputs": []
    },
    {
      "cell_type": "code",
      "source": [
        "ridge_custom.fit(X_train, y_train)\n",
        "\n",
        "y_pred_custom = ridge_custom.predict(X_test)\n",
        "mse_custom = mean_squared_error(y_test, y_pred_custom)\n",
        "print(\"Custom Ridge Regression MSE:\", mse_custom)\n",
        "\n",
        "ridge_sklearn = Ridge(alpha=1.0)\n",
        "ridge_sklearn.fit(X_train, y_train)\n",
        "y_pred_sklearn = ridge_sklearn.predict(X_test)\n",
        "mse_sklearn = mean_squared_error(y_test, y_pred_sklearn)\n",
        "print(\"Scikit-learn Ridge Regression MSE:\", mse_sklearn)\n",
        "\n",
        "print(\"Custom Coefficients:\", ridge_custom.coffs)\n",
        "print(\"Scikit-learn Coefficients:\", ridge_sklearn.coef_)\n",
        "\n",
        "kf = KFold(n_splits=5, shuffle=True, random_state=42)\n",
        "mse_custom_scores = []\n",
        "for train_index, test_index in kf.split(X):\n",
        "    X_train, X_test = X[train_index], X[test_index]\n",
        "    y_train, y_test = y[train_index], y[test_index]\n",
        "\n",
        "    ridge_custom = RidgeRegression(regulizer=1.0)\n",
        "    ridge_custom.fit(X_train, y_train)\n",
        "    y_pred_custom = ridge_custom.predict(X_test)\n",
        "\n",
        "    mse_custom = mean_squared_error(y_test, y_pred_custom)\n",
        "    mse_custom_scores.append(mse_custom)\n",
        "\n",
        "mean_mse_custom = np.mean(mse_custom_scores)\n",
        "print(\"Custom Ridge Regression Mean MSE with Cross-Validation:\", mean_mse_custom)\n",
        "\n",
        "mse_sklearn_scores = []\n",
        "for train_index, test_index in kf.split(X):\n",
        "    X_train, X_test = X[train_index], X[test_index]\n",
        "    y_train, y_test = y[train_index], y[test_index]\n",
        "\n",
        "    ridge_sklearn = Ridge(alpha=1.0)\n",
        "    ridge_sklearn.fit(X_train, y_train)\n",
        "    y_pred_sklearn = ridge_sklearn.predict(X_test)\n",
        "\n",
        "    mse_sklearn = mean_squared_error(y_test, y_pred_sklearn)\n",
        "    mse_sklearn_scores.append(mse_sklearn)\n",
        "\n",
        "mean_mse_sklearn = np.mean(mse_sklearn_scores)\n",
        "print(\"Scikit-learn Ridge Regression Mean MSE with Cross-Validation:\", mean_mse_sklearn)\n"
      ],
      "metadata": {
        "colab": {
          "base_uri": "https://localhost:8080/"
        },
        "id": "5iryfUjvSlDZ",
        "outputId": "e336758b-6c82-4e6a-eadd-9e7104c58382"
      },
      "execution_count": 68,
      "outputs": [
        {
          "output_type": "stream",
          "name": "stdout",
          "text": [
            "Custom Ridge Regression MSE: 3077.4159388272296\n",
            "Scikit-learn Ridge Regression MSE: 3077.41593882723\n",
            "Custom Coefficients: [  45.36737726  -76.66608563  291.33883165  198.99581745   -0.53030959\n",
            "  -28.57704987 -144.51190505  119.26006559  230.22160832  112.14983004]\n",
            "Scikit-learn Coefficients: [  45.36737726  -76.66608563  291.33883165  198.99581745   -0.53030959\n",
            "  -28.57704987 -144.51190505  119.26006559  230.22160832  112.14983004]\n",
            "Custom Ridge Regression Mean MSE with Cross-Validation: 3433.171835094969\n",
            "Scikit-learn Ridge Regression Mean MSE with Cross-Validation: 3433.171835094969\n"
          ]
        }
      ]
    },
    {
      "cell_type": "code",
      "source": [],
      "metadata": {
        "id": "qViCRaggWMRI"
      },
      "execution_count": null,
      "outputs": []
    }
  ]
}