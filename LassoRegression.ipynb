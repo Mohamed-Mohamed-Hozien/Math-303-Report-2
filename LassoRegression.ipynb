{
 "cells": [
  {
   "cell_type": "code",
   "execution_count": null,
   "metadata": {},
   "outputs": [],
   "source": [
    "import numpy as np"
   ]
  },
  {
   "cell_type": "code",
   "execution_count": null,
   "metadata": {},
   "outputs": [],
   "source": [
    "# Create the regularization class we want.\n",
    "class l1_regularization:\n",
    "    \"\"\"Regularization used for Lasson Regression\"\"\"\n",
    "    def __init__(self, lamda):\n",
    "        self.lamda = lamda\n",
    "\n",
    "    def __call__(self, weights):\n",
    "        \"This will be retuned when we call this class.\"\n",
    "        return self.lamda * np.sum(np.abs(weights))\n",
    "\n",
    "    def derivation(self, weights):\n",
    "        \"Derivation of the regulariozation function.\"\n",
    "        return self.lamda * np.sign(weights)\n",
    "\n",
    "\n",
    "class l2_regularization:\n",
    "    \"\"\"Regularization used for Ridge Regression\"\"\"\n",
    "    def __init__(self, lamda):\n",
    "        self.lamda = lamda\n",
    "\n",
    "    def __call__(self, weights):\n",
    "        \"This will be retuned when we call this class.\"\n",
    "        return self.lamda * np.sum(np.square(weights))\n",
    "\n",
    "    def derivation(self, weights):\n",
    "        \"Derivation of the regulariozation function.\"\n",
    "        return self.lamda * 2 * (weights)"
   ]
  }
 ],
 "metadata": {
  "kernelspec": {
   "display_name": "Python 3",
   "language": "python",
   "name": "python3"
  },
  "language_info": {
   "name": "python",
   "version": "3.12.6"
  }
 },
 "nbformat": 4,
 "nbformat_minor": 2
}
